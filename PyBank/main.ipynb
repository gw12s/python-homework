{
 "cells": [
  {
   "cell_type": "code",
   "execution_count": 114,
   "metadata": {},
   "outputs": [
    {
     "name": "stdout",
     "output_type": "stream",
     "text": [
      "Financial Analysis\n",
      "----------------------------\n",
      "Total Months: 86\n",
      "Total: $38382578\n",
      "Average Change: $-2315.12\n",
      "Greatest Increase in Profits: Feb-2012 ($1926159)\n",
      "Greatest Decrease in Profits: Sep-2013 ($-2196167)\n"
     ]
    }
   ],
   "source": [
    "import os\n",
    "import csv\n",
    "from pathlib import Path \n",
    "\n",
    "csvpath = Path(\"C:/Users/14694/smu-dal-fin-pt-07-2020-u-c/02-Homework/02-Python/Instructions/PyBank/Resources/budget_data.csv\")\n",
    "\n",
    "total_months = []\n",
    "total_profit = []\n",
    "average_change = []\n",
    " \n",
    "with open(csvpath,newline=\"\") as budget:\n",
    "    csvreader = csv.reader(budget,delimiter=\",\") \n",
    "    header = next(csvreader)  \n",
    "\n",
    "    for row in csvreader: \n",
    "        total_months.append(row[0])\n",
    "        total_profit.append(int(row[1]))\n",
    "\n",
    "    for i in range(len(total_profit)-1):      \n",
    "        average_change.append(total_profit[i+1]-total_profit[i])\n",
    "        \n",
    "max_increase_value = max(average_change)\n",
    "max_decrease_value = min(average_change)\n",
    "\n",
    "max_increase_month = average_change.index(max(average_change)) + 1\n",
    "max_decrease_month = average_change.index(min(average_change)) + 1 \n",
    "\n",
    "#Print output, Total Months on csv, Total \n",
    "print(\"Financial Analysis\")\n",
    "print(\"----------------------------\")\n",
    "print(f\"Total Months: {len(total_months)}\")\n",
    "print(f\"Total: ${sum(total_profit)}\")\n",
    "print(f\"Average Change: ${round(sum(average_change)/len(average_change),2)}\")\n",
    "print(f\"Greatest Increase in Profits: {total_months[max_increase_month]} (${(str(max_increase_value))})\")\n",
    "print(f\"Greatest Decrease in Profits: {total_months[max_decrease_month]} (${(str(max_decrease_value))})\")\n",
    "\n",
    "output_file = Path(\"C:/Users/14694/smu-dal-fin-pt-07-2020-u-c/02-Homework/02-Python/Instructions/PyBank/Resources/FinancialAnalysis.txt\")\n",
    "\n",
    "with open(output_file,\"w\") as file:\n",
    "    \n",
    "    file.write(\"Financial Analysis\")\n",
    "    file.write(\"\\n\")\n",
    "    file.write(\"----------------------------\")\n",
    "    file.write(\"\\n\")\n",
    "    file.write(f\"Total Months: {len(total_months)}\")\n",
    "    file.write(\"\\n\")\n",
    "    file.write(f\"Total: ${sum(total_profit)}\")\n",
    "    file.write(\"\\n\")\n",
    "    file.write(f\"Average Change: {round(sum(average_change)/len(average_change),2)}\")\n",
    "    file.write(\"\\n\")\n",
    "    file.write(f\"Greatest Increase in Profits: {total_months[max_increase_month]} (${(str(max_increase_value))})\")\n",
    "    file.write(\"\\n\")\n",
    "    file.write(f\"Greatest Decrease in Profits: {total_months[max_decrease_month]} (${(str(max_decrease_value))})\")\n"
   ]
  },
  {
   "cell_type": "code",
   "execution_count": null,
   "metadata": {},
   "outputs": [],
   "source": []
  },
  {
   "cell_type": "code",
   "execution_count": null,
   "metadata": {},
   "outputs": [],
   "source": []
  }
 ],
 "metadata": {
  "kernelspec": {
   "display_name": "Python 3",
   "language": "python",
   "name": "python3"
  },
  "language_info": {
   "codemirror_mode": {
    "name": "ipython",
    "version": 3
   },
   "file_extension": ".py",
   "mimetype": "text/x-python",
   "name": "python",
   "nbconvert_exporter": "python",
   "pygments_lexer": "ipython3",
   "version": "3.7.7"
  }
 },
 "nbformat": 4,
 "nbformat_minor": 4
}
