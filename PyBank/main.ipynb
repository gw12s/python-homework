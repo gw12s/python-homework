{
 "cells": [
  {
   "cell_type": "code",
   "execution_count": 1,
   "metadata": {},
   "outputs": [],
   "source": [
    "import os\n",
    "import csv\n",
    "import pandas as pd\n",
    "import numpy as np\n",
    "from pathlib import Path"
   ]
  },
  {
   "cell_type": "code",
   "execution_count": 4,
   "metadata": {},
   "outputs": [],
   "source": [
    "#create path to file\n",
    "#read csv into df\n",
    "#update path before push\n",
    "\n",
    "budgetcsv = Path(\"C:/Users/14694/smu-dal-fin-pt-07-2020-u-c/02-Homework/02-Python/Instructions/PyBank/Resources/budget_data.csv\")\n",
    "\n",
    "budgetdata = pd.read_csv(budgetcsv)"
   ]
  },
  {
   "cell_type": "code",
   "execution_count": null,
   "metadata": {},
   "outputs": [],
   "source": [
    "total_months = budgetdata['Date'].count()\n",
    "total_pl = budgetdata['Profit/Losses'].sum()\n",
    "budgetdata['Profit/Loss_Change'] = budgetdata['Profit/Losses'].diff()\n",
    "#averagechange_pl = budgetdata['Profit/Loss_Change'].mean()\n",
    "#maxchange_pl = budgetdata['Profit/Loss_Change'].max()\n",
    "#minchange_pl = budgetdata['Profit/Loss_Change'].min()"
   ]
  },
  {
   "cell_type": "code",
   "execution_count": null,
   "metadata": {},
   "outputs": [],
   "source": [
    "#Print output, Total Months on csv, Total \n",
    "print(\"Financial Analysis\")\n",
    "print(\"----------------------------\")\n",
    "print(f\"Total Months: {(total_months)}\")\n",
    "print(f\"Total: ${(total_pl)}\")\n",
    "print(f\"Average Change: ${round(budgetdata['Profit/Loss_Change'].mean(),2)}\")\n",
    "print(f\"Greatest Increase in Profits: {budgetdata.loc[budgetdata['Profit/Loss_Change'].idxmax(), 'Date']} ${round(budgetdata['Profit/Loss_Change'].max(),2)}\")\n",
    "print(f\"Greatest Decrease in Profits: {budgetdata.loc[budgetdata['Profit/Loss_Change'].idxmin(), 'Date']} ${round(budgetdata['Profit/Loss_Change'].min(),2)}\")\n"
   ]
  },
  {
   "cell_type": "code",
   "execution_count": null,
   "metadata": {},
   "outputs": [],
   "source": [
    "#Write and export txt file with output\n",
    "\n",
    "output_file = Path(\"C:/Users/14694/smu-dal-fin-pt-07-2020-u-c/02-Homework/02-Python/Instructions/PyBank/Resources/FinancialAnalysis.txt\")\n",
    "\n",
    "with open(output_file,\"w\") as file:\n",
    "\n",
    "    file.write(\"Financial Analysis\")\n",
    "    file.write(\"\\n\")\n",
    "    file.write(\"----------------------------\")\n",
    "    file.write(\"\\n\")\n",
    "    file.write(f\"Total Months: {(total_months)}\")\n",
    "    file.write(\"\\n\")\n",
    "    file.write(f\"Total: ${(total_pl)}\")\n",
    "    file.write(\"\\n\")\n",
    "    file.write(f\"Average Change: ${round(budgetdata['Profit/Loss_Change'].mean(),2)}\")\n",
    "    file.write(\"\\n\")\n",
    "    file.write(f\"Greatest Increase in Profits: {budgetdata.loc[budgetdata['Profit/Loss_Change'].idxmax(), 'Date']} ${round(budgetdata['Profit/Loss_Change'].max(),2)}\")\n",
    "    file.write(\"\\n\")\n",
    "    file.write(f\"Greatest Decrease in Profits: {budgetdata.loc[budgetdata['Profit/Loss_Change'].idxmin(), 'Date']} ${round(budgetdata['Profit/Loss_Change'].min(),2)}\")\n"
   ]
  }
 ],
 "metadata": {
  "kernelspec": {
   "display_name": "Python 3",
   "language": "python",
   "name": "python3"
  },
  "language_info": {
   "codemirror_mode": {
    "name": "ipython",
    "version": 3
   },
   "file_extension": ".py",
   "mimetype": "text/x-python",
   "name": "python",
   "nbconvert_exporter": "python",
   "pygments_lexer": "ipython3",
   "version": "3.8.3"
  }
 },
 "nbformat": 4,
 "nbformat_minor": 4
}
